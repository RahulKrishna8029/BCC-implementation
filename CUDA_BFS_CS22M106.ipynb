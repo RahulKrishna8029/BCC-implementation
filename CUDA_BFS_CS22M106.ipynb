{
  "nbformat": 4,
  "nbformat_minor": 0,
  "metadata": {
    "colab": {
      "provenance": []
    },
    "kernelspec": {
      "name": "python3",
      "display_name": "Python 3"
    },
    "language_info": {
      "name": "python"
    },
    "accelerator": "GPU",
    "gpuClass": "standard"
  },
  "cells": [
    {
      "cell_type": "code",
      "execution_count": 9,
      "metadata": {
        "colab": {
          "base_uri": "https://localhost:8080/"
        },
        "id": "If7AgVxYa4Wl",
        "outputId": "82bae5f4-c830-4d1b-db4a-d6495e3207da"
      },
      "outputs": [
        {
          "output_type": "stream",
          "name": "stdout",
          "text": [
            "Overwriting cuda_bfs.cu\n"
          ]
        }
      ],
      "source": [
        "%%writefile cuda_bfs.cu\n",
        "#include<bits/stdc++.h>\n",
        "\n",
        "using namespace std;\n",
        "\n",
        "__global__ void bfsKernel(int *vertex, int *edge, int n, int *dist, int *level, int *flag) {\n",
        "    int t_id = blockIdx.x * blockDim.x + threadIdx.x;\n",
        "    t_id = t_id + 1;\n",
        "    //checking for out of scope or impossible conditions\n",
        "    if(t_id > n or dist[t_id] != *level) return;\n",
        "    //updating level for the members in distance array\n",
        "    for(int i=vertex[t_id];i<vertex[t_id+1];i++){\n",
        "      if(dist[edge[i]]==1000000){\n",
        "        dist[edge[i]]=*level+1;\n",
        "        *flag=1;\n",
        "      }\n",
        "    }\n",
        "}\n",
        "int main(){\n",
        "  int threadsPerBlock=1024,blocksPerGrid;\n",
        "  int n;\n",
        "  cout<<\"enter the no.of vertices\"<<endl;\n",
        "  cin>>n;\n",
        "  blocksPerGrid = (n + 1023)/1024;\n",
        "  //enter the source vertex\n",
        "  int src;\n",
        "  cin>>src;\n",
        "  vector<vector<int>>edgeList(n);\n",
        "  //this is the adjacency list representation of the given graph\n",
        "  //Here the neighbours of each vertex are stored and ending with -1\n",
        "  int count=0,edgeCount=0;\n",
        "  while(count<n){\n",
        "    int t;\n",
        "    cin>>t;\n",
        "    if(t==-1){\n",
        "      count++;\n",
        "      continue;\n",
        "    }\n",
        "    edgeCount++;\n",
        "    edgeList[count].push_back(t);\n",
        "  }\n",
        "  //vertex memory allocation in array\n",
        "  int *vertex, *dvertex;\n",
        "  vertex=(int *)malloc(sizeof(int) * (n+2));\n",
        "  cudaMalloc((void **)&dvertex, sizeof(int) * (n+2));\n",
        "  //edge memory allocation in array\n",
        "  //typically it's CSR format\n",
        "  int *edge, *dedge;\n",
        "  edge=(int *)malloc(sizeof(int) * (edgeCount+2));\n",
        "  cudaMalloc((void **)&dedge, sizeof(int) * (edgeCount+2));\n",
        "  //vertex array keep the index of the starting position of vertex in CSR edge array.\n",
        "  int k=1;\n",
        "  for(int i=0;i<=n;i++){\n",
        "    vertex[i+1]=k;\n",
        "    if(i==n) break;\n",
        "    //here all the edges are stored int sequential manner and k is updated here.\n",
        "    for(int j=0;j<edgeList[i].size();j++){\n",
        "      edge[k++]=edgeList[i][j];\n",
        "    }\n",
        "  }\n",
        "  for(int i=0;i<edgeCount;i++){\n",
        "    cout<<i+1<<\" \"<<edge[i+1]<<endl;\n",
        "  }\n",
        "  for(int i=0;i<n;i++){\n",
        "    cout<<vertex[i+1]<<\" \";\n",
        "  }\n",
        "  int *dist, *ddist;\n",
        "  dist=(int *)malloc(sizeof(int) * (n+2));\n",
        "  cudaMalloc((void **)&ddist,sizeof(int) * (n+2));\n",
        "  for(int i=1;i<=n;i++){\n",
        "    dist[i]=1000000;\n",
        "  }\n",
        "  dist[src] = 0;\n",
        "  int *flag, *level;\n",
        "  int *dflag, *dlevel;\n",
        "  flag = (int *) (sizeof(int));\n",
        "  level = (int *) (sizeof(int));\n",
        "  cudaMalloc((void **)&dflag, sizeof(int));\n",
        "  cudaMalloc((void **)&dlevel, sizeof(int));\n",
        "  cudaMemcpy(ddist, dist, sizeof(int) * (n+2), cudaMemcpyHostToDevice);\n",
        "  cudaMemcpy(dvertex, vertex, sizeof(int) * (n+2), cudaMemcpyHostToDevice);\n",
        "  cudaMemcpy(dedge, edge, sizeof(int) * (edgeCount + 2), cudaMemcpyHostToDevice);\n",
        "  int temp_level = 0, temp_flag = 1;\n",
        "  flag=&temp_flag;\n",
        "  level=&temp_level;\n",
        "  while(*flag){\n",
        "    *flag=0;\n",
        "    cudaMemcpy(dflag, flag, sizeof(int), cudaMemcpyHostToDevice);\n",
        "    cudaMemcpy(dlevel, level, sizeof(int), cudaMemcpyHostToDevice);\n",
        "    bfsKernel<<<blocksPerGrid,threadsPerBlock>>>(dvertex,dedge,n,ddist,dlevel,dflag);\n",
        "    *level=*level+1;\n",
        "    cudaMemcpy(flag, dflag, sizeof(int), cudaMemcpyDeviceToHost);\n",
        "  }\n",
        "  cudaMemcpy(dist, ddist, sizeof(int) * (n+2), cudaMemcpyDeviceToHost);\n",
        "  //After Running parallel BFS \n",
        "  cout<<\"New distance array is : \"<<endl;\n",
        "  for(int i=1;i<=n;i++){\n",
        "    cout<<dist[i]<<\" \";\n",
        "  }\n",
        " /* vector<pair<int,int>>bfsop(n+2);\n",
        "  for(int i=1;i<=n;i++){\n",
        "    bfsop[i]={dist[i],i};\n",
        "  }\n",
        "  sort(bfsop.begin(),bfsop.end());\n",
        "  for(int i=1;i<=n;i++){\n",
        "    cout<<bfsop[i].second<<\" \";\n",
        "  }*/\n",
        "  cout<<endl;\n",
        "  return 0;\n",
        "}"
      ]
    },
    {
      "cell_type": "code",
      "source": [
        "!nvcc cuda_bfs.cu\n",
        "!./a.out"
      ],
      "metadata": {
        "id": "Sg9LZ8CScKvo"
      },
      "execution_count": null,
      "outputs": []
    },
    {
      "cell_type": "markdown",
      "source": [
        "cuda_bfs.cu"
      ],
      "metadata": {
        "id": "pYtSDWiTcLBP"
      }
    }
  ]
}